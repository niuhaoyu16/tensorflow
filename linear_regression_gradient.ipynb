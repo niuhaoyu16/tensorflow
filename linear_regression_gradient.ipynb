{
  "nbformat": 4,
  "nbformat_minor": 0,
  "metadata": {
    "colab": {
      "name": "linear regression.ipynb",
      "provenance": [],
      "authorship_tag": "ABX9TyPO4nj42OAs+fLreApuC2oA",
      "include_colab_link": true
    },
    "kernelspec": {
      "name": "python3",
      "display_name": "Python 3"
    }
  },
  "cells": [
    {
      "cell_type": "markdown",
      "metadata": {
        "id": "view-in-github",
        "colab_type": "text"
      },
      "source": [
        "<a href=\"https://colab.research.google.com/github/niuhaoyu16/tensorflow/blob/main/linear_regression_gradient.ipynb\" target=\"_parent\"><img src=\"https://colab.research.google.com/assets/colab-badge.svg\" alt=\"Open In Colab\"/></a>"
      ]
    },
    {
      "cell_type": "code",
      "metadata": {
        "id": "zOXurLxrcIbK",
        "outputId": "e5caeec0-91ae-4d8a-b628-7616ef5b70ab",
        "colab": {
          "base_uri": "https://localhost:8080/"
        }
      },
      "source": [
        "%tensorflow_version 1.x"
      ],
      "execution_count": 1,
      "outputs": [
        {
          "output_type": "stream",
          "text": [
            "TensorFlow 1.x selected.\n"
          ],
          "name": "stdout"
        }
      ]
    },
    {
      "cell_type": "code",
      "metadata": {
        "id": "uT_0Gw2dMkYl"
      },
      "source": [
        "import tensorflow as tf\n",
        "import numpy as np\n",
        "from sklearn.datasets import fetch_california_housing"
      ],
      "execution_count": 5,
      "outputs": []
    },
    {
      "cell_type": "code",
      "metadata": {
        "id": "zLWJUeWUcMF5"
      },
      "source": [
        "# create a computation graph\n",
        "housing = fetch_california_housing()"
      ],
      "execution_count": 6,
      "outputs": []
    },
    {
      "cell_type": "code",
      "metadata": {
        "id": "oH413mDcceSt"
      },
      "source": [
        "m,n = housing.data.shape\n",
        "housing_data_plus_bias = np.c_[np.ones((m,1)), housing.data]\n",
        "X = tf.constant(housing_data_plus_bias, dtype=tf.float32, name = \"X\")\n",
        "y = tf.constant(housing.target.reshape(-1,1), dtype=tf.float32, name = \"y\")\n",
        "XT = tf.transpose(X)\n",
        "theta = tf.matmul(tf.matmul(tf.matrix_inverse(tf.matmul(XT, X)), XT), y)"
      ],
      "execution_count": 7,
      "outputs": []
    },
    {
      "cell_type": "code",
      "metadata": {
        "id": "oaSO-4EocgBE"
      },
      "source": [
        "with tf.Session() as sess:\n",
        "  theta_value = theta.eval()"
      ],
      "execution_count": 8,
      "outputs": []
    },
    {
      "cell_type": "code",
      "metadata": {
        "id": "y8JqGQR_co4P"
      },
      "source": [
        "theta_value\n",
        "from sklearn.preprocessing import StandardScaler"
      ],
      "execution_count": 12,
      "outputs": []
    },
    {
      "cell_type": "code",
      "metadata": {
        "id": "dP-7KjH2o1Xl"
      },
      "source": [
        "n_epochs = 1000\n",
        "learning_rate = 0.01\n",
        "scaled_housing_data_plus_bias = StandardScaler().fit_transform(housing_data_plus_bias)\n",
        "X = tf.constant(scaled_housing_data_plus_bias, dtype=tf.float32, name = \"X\")\n",
        "y = tf.constant(housing.target.reshape(-1,1), dtype=tf.float32, name =\"y\")\n",
        "theta = tf.Variable(tf.random_uniform([n + 1, 1], -1.0, 1.0), name = \"theta\")\n",
        "y_pred = tf.matmul(X, theta, name = \"predictions\")\n",
        "error = y_pred - y\n",
        "mse = tf.reduce_mean(tf.square(error), name = \"mse\")\n",
        "# 1 gradients = 2/m * tf.matmul(tf.transpose(X), error)\n",
        "#2 gradients = tf.gradients(mse, [theta])[0]\n",
        "#2 training_op = tf.assign(theta, theta - learning_rate*gradients)\n",
        "# 3 optimizer = tf.train.GradientDescentOptimizer(learning_rate=learning_rate)\n",
        "optimizer = tf.train.MomentumOptimizer(learning_rate=learning_rate, momentum=0.9)\n",
        "training_op = optimizer.minimize(mse)\n",
        "init = tf.global_variables_initializer()\n"
      ],
      "execution_count": 27,
      "outputs": []
    },
    {
      "cell_type": "code",
      "metadata": {
        "id": "jxB4RbOSOkbf",
        "outputId": "e972da19-6294-43a0-8fa6-8c1f58a80d72",
        "colab": {
          "base_uri": "https://localhost:8080/"
        }
      },
      "source": [
        "with tf.Session() as sess:\n",
        "  sess.run(init)\n",
        "\n",
        "  for epoch in range(n_epochs):\n",
        "    if epoch % 100 ==0:\n",
        "      print(\"Epoch\", epoch, \"MSE=\", mse.eval())\n",
        "      sess.run(training_op)\n",
        "  best_theta = theta.eval()\n"
      ],
      "execution_count": 28,
      "outputs": [
        {
          "output_type": "stream",
          "text": [
            "Epoch 0 MSE= 8.984369\n",
            "Epoch 100 MSE= 8.764759\n",
            "Epoch 200 MSE= 8.374451\n",
            "Epoch 300 MSE= 7.87591\n",
            "Epoch 400 MSE= 7.334042\n",
            "Epoch 500 MSE= 6.8069205\n",
            "Epoch 600 MSE= 6.3392897\n",
            "Epoch 700 MSE= 5.9592514\n",
            "Epoch 800 MSE= 5.677947\n",
            "Epoch 900 MSE= 5.491717\n"
          ],
          "name": "stdout"
        }
      ]
    },
    {
      "cell_type": "code",
      "metadata": {
        "id": "X7VqeLDiP6A5",
        "outputId": "fa0cbe61-afb1-4edc-c1c4-5e14d6d73faf",
        "colab": {
          "base_uri": "https://localhost:8080/"
        }
      },
      "source": [
        "best_theta"
      ],
      "execution_count": 24,
      "outputs": [
        {
          "output_type": "execute_result",
          "data": {
            "text/plain": [
              "array([[-0.37160587],\n",
              "       [ 0.9399257 ],\n",
              "       [-0.04648259],\n",
              "       [-0.5093014 ],\n",
              "       [ 0.6266037 ],\n",
              "       [ 0.10095236],\n",
              "       [-0.62984467],\n",
              "       [-0.2350705 ],\n",
              "       [ 0.43999383]], dtype=float32)"
            ]
          },
          "metadata": {
            "tags": []
          },
          "execution_count": 24
        }
      ]
    },
    {
      "cell_type": "code",
      "metadata": {
        "id": "-Kv8m3L6QuoZ",
        "outputId": "0168c1c7-2787-406e-8586-6f91bbcd9308",
        "colab": {
          "base_uri": "https://localhost:8080/"
        }
      },
      "source": [
        "y"
      ],
      "execution_count": 21,
      "outputs": [
        {
          "output_type": "execute_result",
          "data": {
            "text/plain": [
              "<tf.Tensor 'y_2:0' shape=(20640, 1) dtype=float32>"
            ]
          },
          "metadata": {
            "tags": []
          },
          "execution_count": 21
        }
      ]
    },
    {
      "cell_type": "code",
      "metadata": {
        "id": "KFyGJ63vQ3Jy"
      },
      "source": [
        ""
      ],
      "execution_count": null,
      "outputs": []
    }
  ]
}