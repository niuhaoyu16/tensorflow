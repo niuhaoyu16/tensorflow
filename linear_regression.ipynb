{
  "nbformat": 4,
  "nbformat_minor": 0,
  "metadata": {
    "colab": {
      "name": "linear regression.ipynb",
      "provenance": [],
      "authorship_tag": "ABX9TyPGJgainnLE5dWMHfitUtRB",
      "include_colab_link": true
    },
    "kernelspec": {
      "name": "python3",
      "display_name": "Python 3"
    }
  },
  "cells": [
    {
      "cell_type": "markdown",
      "metadata": {
        "id": "view-in-github",
        "colab_type": "text"
      },
      "source": [
        "<a href=\"https://colab.research.google.com/github/niuhaoyu16/tensorflow/blob/main/linear_regression.ipynb\" target=\"_parent\"><img src=\"https://colab.research.google.com/assets/colab-badge.svg\" alt=\"Open In Colab\"/></a>"
      ]
    },
    {
      "cell_type": "code",
      "metadata": {
        "id": "zOXurLxrcIbK"
      },
      "source": [
        "import tensorflow as tf\n",
        "import numpy as np\n",
        "from sklearn.datasets import fetch_california_housing\n",
        "%tensorflow_version 1.x"
      ],
      "execution_count": 14,
      "outputs": []
    },
    {
      "cell_type": "code",
      "metadata": {
        "id": "zLWJUeWUcMF5",
        "colab": {
          "base_uri": "https://localhost:8080/"
        },
        "outputId": "393daa36-118b-4011-e6e9-b9a75648c0d4"
      },
      "source": [
        "# create a computation graph\n",
        "housing = fetch_california_housing()"
      ],
      "execution_count": 15,
      "outputs": [
        {
          "output_type": "stream",
          "text": [
            "Downloading Cal. housing from https://ndownloader.figshare.com/files/5976036 to /root/scikit_learn_data\n"
          ],
          "name": "stderr"
        }
      ]
    },
    {
      "cell_type": "code",
      "metadata": {
        "id": "oH413mDcceSt"
      },
      "source": [
        "m,n = housing.data.shape\n",
        "housing_data_plus_bias = np.c_[np.ones((m,1)), housing.data]\n",
        "X = tf.constant(housing_data_plus_bias, dtype=tf.float32, name = \"X\")\n",
        "y = tf.constant(housing.target.reshape(-1,1), dtype=tf.float32, name = \"y\")\n",
        "XT = tf.transpose(X)\n",
        "theta = tf.matmul(tf.matmul(tf.matrix_inverse(tf.matmul(XT, X)), XT), y)"
      ],
      "execution_count": 21,
      "outputs": []
    },
    {
      "cell_type": "code",
      "metadata": {
        "id": "oaSO-4EocgBE"
      },
      "source": [
        "with tf.Session() as sess:\n",
        "  theta_value = theta.eval()"
      ],
      "execution_count": 22,
      "outputs": []
    },
    {
      "cell_type": "code",
      "metadata": {
        "id": "y8JqGQR_co4P",
        "colab": {
          "base_uri": "https://localhost:8080/"
        },
        "outputId": "a514eb9b-3450-455b-e0cb-b9d750257f47"
      },
      "source": [
        "theta_value"
      ],
      "execution_count": 23,
      "outputs": [
        {
          "output_type": "execute_result",
          "data": {
            "text/plain": [
              "array([[-3.67372932e+01],\n",
              "       [ 4.37366009e-01],\n",
              "       [ 9.47520509e-03],\n",
              "       [-1.08159676e-01],\n",
              "       [ 6.48537397e-01],\n",
              "       [-3.84734449e-06],\n",
              "       [-3.79239232e-03],\n",
              "       [-4.19136107e-01],\n",
              "       [-4.32144403e-01]], dtype=float32)"
            ]
          },
          "metadata": {
            "tags": []
          },
          "execution_count": 23
        }
      ]
    },
    {
      "cell_type": "code",
      "metadata": {
        "id": "dP-7KjH2o1Xl"
      },
      "source": [
        ""
      ],
      "execution_count": null,
      "outputs": []
    }
  ]
}