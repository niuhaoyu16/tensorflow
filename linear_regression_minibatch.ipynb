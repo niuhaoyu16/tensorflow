{
  "nbformat": 4,
  "nbformat_minor": 0,
  "metadata": {
    "colab": {
      "name": "linear regression.ipynb",
      "provenance": [],
      "authorship_tag": "ABX9TyO0gJxARYV5zhEIxwHLcklV",
      "include_colab_link": true
    },
    "kernelspec": {
      "name": "python3",
      "display_name": "Python 3"
    }
  },
  "cells": [
    {
      "cell_type": "markdown",
      "metadata": {
        "id": "view-in-github",
        "colab_type": "text"
      },
      "source": [
        "<a href=\"https://colab.research.google.com/github/niuhaoyu16/tensorflow/blob/main/linear_regression_minibatch.ipynb\" target=\"_parent\"><img src=\"https://colab.research.google.com/assets/colab-badge.svg\" alt=\"Open In Colab\"/></a>"
      ]
    },
    {
      "cell_type": "code",
      "metadata": {
        "id": "zOXurLxrcIbK",
        "colab": {
          "base_uri": "https://localhost:8080/"
        },
        "outputId": "e5caeec0-91ae-4d8a-b628-7616ef5b70ab"
      },
      "source": [
        "%tensorflow_version 1.x"
      ],
      "execution_count": 1,
      "outputs": [
        {
          "output_type": "stream",
          "text": [
            "TensorFlow 1.x selected.\n"
          ],
          "name": "stdout"
        }
      ]
    },
    {
      "cell_type": "code",
      "metadata": {
        "id": "uT_0Gw2dMkYl"
      },
      "source": [
        "import tensorflow as tf\n",
        "import numpy as np\n",
        "from sklearn.datasets import fetch_california_housing"
      ],
      "execution_count": 5,
      "outputs": []
    },
    {
      "cell_type": "code",
      "metadata": {
        "id": "zLWJUeWUcMF5"
      },
      "source": [
        "# create a computation graph\n",
        "housing = fetch_california_housing()"
      ],
      "execution_count": 6,
      "outputs": []
    },
    {
      "cell_type": "code",
      "metadata": {
        "id": "oH413mDcceSt"
      },
      "source": [
        "m,n = housing.data.shape\n",
        "housing_data_plus_bias = np.c_[np.ones((m,1)), housing.data]\n",
        "X = tf.constant(housing_data_plus_bias, dtype=tf.float32, name = \"X\")\n",
        "y = tf.constant(housing.target.reshape(-1,1), dtype=tf.float32, name = \"y\")\n",
        "XT = tf.transpose(X)\n",
        "theta = tf.matmul(tf.matmul(tf.matrix_inverse(tf.matmul(XT, X)), XT), y)"
      ],
      "execution_count": 7,
      "outputs": []
    },
    {
      "cell_type": "code",
      "metadata": {
        "id": "oaSO-4EocgBE"
      },
      "source": [
        "with tf.Session() as sess:\n",
        "  theta_value = theta.eval()"
      ],
      "execution_count": 8,
      "outputs": []
    },
    {
      "cell_type": "code",
      "metadata": {
        "id": "y8JqGQR_co4P"
      },
      "source": [
        "theta_value\n",
        "from sklearn.preprocessing import StandardScaler"
      ],
      "execution_count": 12,
      "outputs": []
    },
    {
      "cell_type": "code",
      "metadata": {
        "id": "dP-7KjH2o1Xl"
      },
      "source": [
        "n_epochs = 1000\n",
        "learning_rate = 0.01\n",
        "scaled_housing_data_plus_bias = StandardScaler().fit_transform(housing_data_plus_bias)\n",
        "X = tf.constant(scaled_housing_data_plus_bias, dtype=tf.float32, name = \"X\")\n",
        "y = tf.constant(housing.target.reshape(-1,1), dtype=tf.float32, name =\"y\")\n",
        "theta = tf.Variable(tf.random_uniform([n + 1, 1], -1.0, 1.0), name = \"theta\")\n",
        "y_pred = tf.matmul(X, theta, name = \"predictions\")\n",
        "error = y_pred - y\n",
        "mse = tf.reduce_mean(tf.square(error), name = \"mse\")\n",
        "# 1 gradients = 2/m * tf.matmul(tf.transpose(X), error)\n",
        "#2 gradients = tf.gradients(mse, [theta])[0]\n",
        "#2 training_op = tf.assign(theta, theta - learning_rate*gradients)\n",
        "# 3 optimizer = tf.train.GradientDescentOptimizer(learning_rate=learning_rate)\n",
        "optimizer = tf.train.MomentumOptimizer(learning_rate=learning_rate, momentum=0.9)\n",
        "training_op = optimizer.minimize(mse)\n",
        "init = tf.global_variables_initializer()\n",
        "saver = tf.train.Saver()\n"
      ],
      "execution_count": 41,
      "outputs": []
    },
    {
      "cell_type": "code",
      "metadata": {
        "id": "jxB4RbOSOkbf"
      },
      "source": [
        "with tf.Session() as sess:\n",
        "  sess.run(init)\n",
        "\n",
        "  for epoch in range(n_epochs):\n",
        "    if epoch % 100 ==0:\n",
        "      save_path = saver.save(sess, \"/tmp/my_model.ckpt\")\n",
        "\n",
        "    sess.run(training_op)\n",
        "\n",
        "  best_theta = theta.eval()\n",
        "  save_path = saver.save(sess, \"/tmp/my_model_final.ckpt\")"
      ],
      "execution_count": 42,
      "outputs": []
    },
    {
      "cell_type": "code",
      "metadata": {
        "colab": {
          "base_uri": "https://localhost:8080/"
        },
        "id": "X7VqeLDiP6A5",
        "outputId": "2e397a6b-1f75-44c7-897d-270bc6a9ff3d"
      },
      "source": [
        "best_theta"
      ],
      "execution_count": 43,
      "outputs": [
        {
          "output_type": "execute_result",
          "data": {
            "text/plain": [
              "array([[ 0.97161865],\n",
              "       [ 0.8296172 ],\n",
              "       [ 0.11875131],\n",
              "       [-0.2655231 ],\n",
              "       [ 0.30569324],\n",
              "       [-0.00450308],\n",
              "       [-0.03932619],\n",
              "       [-0.89989096],\n",
              "       [-0.87054604]], dtype=float32)"
            ]
          },
          "metadata": {
            "tags": []
          },
          "execution_count": 43
        }
      ]
    },
    {
      "cell_type": "code",
      "metadata": {
        "id": "-Kv8m3L6QuoZ"
      },
      "source": [
        "\n"
      ],
      "execution_count": 44,
      "outputs": []
    },
    {
      "cell_type": "code",
      "metadata": {
        "id": "KFyGJ63vQ3Jy"
      },
      "source": [
        "A = tf.placeholder(tf.float32, shape = (None, 3))\n",
        "b = A + 5 "
      ],
      "execution_count": 29,
      "outputs": []
    },
    {
      "cell_type": "code",
      "metadata": {
        "id": "CNVzpTIvSXbF"
      },
      "source": [
        "with tf.Session() as sess:\n",
        "  B_val = b.eval(feed_dict={A: [[1,2,3]]})"
      ],
      "execution_count": 30,
      "outputs": []
    },
    {
      "cell_type": "code",
      "metadata": {
        "id": "j3H4xq9_SjFL",
        "outputId": "6babf1c0-b5db-4f22-b1a8-01382cd545c7",
        "colab": {
          "base_uri": "https://localhost:8080/"
        }
      },
      "source": [
        "print(B_val)"
      ],
      "execution_count": 32,
      "outputs": [
        {
          "output_type": "stream",
          "text": [
            "[[6. 7. 8.]]\n"
          ],
          "name": "stdout"
        }
      ]
    },
    {
      "cell_type": "code",
      "metadata": {
        "id": "jXhUPpmOSlm5"
      },
      "source": [
        "a = np.random.randint(11, size=3)"
      ],
      "execution_count": 34,
      "outputs": []
    },
    {
      "cell_type": "code",
      "metadata": {
        "id": "3O6Aom-fUx6W",
        "outputId": "13b55672-f48c-49fd-e0bb-aed6197ecb19",
        "colab": {
          "base_uri": "https://localhost:8080/"
        }
      },
      "source": [
        "a"
      ],
      "execution_count": 35,
      "outputs": [
        {
          "output_type": "execute_result",
          "data": {
            "text/plain": [
              "array([9, 4, 0])"
            ]
          },
          "metadata": {
            "tags": []
          },
          "execution_count": 35
        }
      ]
    },
    {
      "cell_type": "code",
      "metadata": {
        "id": "Dfxu6V4wVMRW"
      },
      "source": [
        "X=tf.placeholder(tf.float32, shape=(None, n+1), name = \"X\")\n",
        "y = tf.placeholder(tf.float32, shape= (None, 1 ), name = \"y\")\n",
        "batch_size = 100\n",
        "n_batches = int(np.ceil(m/batch_size))\n",
        "n_epochs = 10"
      ],
      "execution_count": 36,
      "outputs": []
    },
    {
      "cell_type": "code",
      "metadata": {
        "id": "9cTgtsmjV7A3"
      },
      "source": [
        "def fetch_batch(epoch, batch_index, batch_size):\n",
        "  np.random.seed(epoch * n_batches + batch_index)  # \n",
        "  indices = np.random.randint(m, size=batch_size)  # \n",
        "  X_batch = scaled_housing_data_plus_bias[indices] # \n",
        "  y_batch = housing.target.reshape(-1, 1)[indices] # \n",
        "  return X_batch, y_batch"
      ],
      "execution_count": 38,
      "outputs": []
    },
    {
      "cell_type": "code",
      "metadata": {
        "id": "KEnYdfIMWYuA"
      },
      "source": [
        "with tf.Session() as sess:\n",
        "  sess.run(init)\n",
        "\n",
        "  for epoch in range(n_epochs):\n",
        "    for batch_index in range(n_batches):\n",
        "      X_batch, y_batch = fetch_batch(epoch, batch_index, batch_size)\n",
        "      sess.run(training_op, feed_dict={X:X_batch, y:y_batch})\n",
        "\n",
        "  best_theta = theta.eval()"
      ],
      "execution_count": 39,
      "outputs": []
    },
    {
      "cell_type": "code",
      "metadata": {
        "id": "WE82MXO5XKz6",
        "outputId": "37268549-18e8-44e7-8afa-2576af778c0c",
        "colab": {
          "base_uri": "https://localhost:8080/"
        }
      },
      "source": [
        "best_theta"
      ],
      "execution_count": 40,
      "outputs": [
        {
          "output_type": "execute_result",
          "data": {
            "text/plain": [
              "array([[-0.6319246 ],\n",
              "       [ 0.8296212 ],\n",
              "       [ 0.11875211],\n",
              "       [-0.2655299 ],\n",
              "       [ 0.3056986 ],\n",
              "       [-0.00450289],\n",
              "       [-0.03932635],\n",
              "       [-0.89988065],\n",
              "       [-0.87053597]], dtype=float32)"
            ]
          },
          "metadata": {
            "tags": []
          },
          "execution_count": 40
        }
      ]
    },
    {
      "cell_type": "code",
      "metadata": {
        "id": "ALgFby1qXuIS"
      },
      "source": [
        ""
      ],
      "execution_count": null,
      "outputs": []
    }
  ]
}